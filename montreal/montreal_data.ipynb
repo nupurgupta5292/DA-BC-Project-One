{
 "cells": [
  {
   "cell_type": "code",
   "execution_count": 1,
   "metadata": {},
   "outputs": [],
   "source": [
    "import pandas as pd\n",
    "import numpy as np\n",
    "import matplotlib.pyplot as plt\n",
    "import scipy.stats as sts\n",
    "import gmaps\n",
    "from api_keys import g_key\n",
    "from ipywidgets.embed import embed_minimal_html"
   ]
  },
  {
   "cell_type": "code",
   "execution_count": 2,
   "metadata": {},
   "outputs": [],
   "source": [
    "montreal_collisions = pd.read_csv('Resources/montreal_2012_2018.csv')\n",
    "montreal_incomes = pd.read_csv('Resources/montreal_incomes.csv')\n",
    "montreal_districts = pd.read_csv('Resources/montreal_districts.csv')"
   ]
  },
  {
   "cell_type": "code",
   "execution_count": 3,
   "metadata": {},
   "outputs": [],
   "source": [
    "montreal_collisions=montreal_collisions.rename(columns={'LOC_LONG':'Longitude',\n",
    "                                                        'LOC_LAT':'Latitude',\n",
    "                                                        'AN': 'Year',\n",
    "                                                        'DT_ACCDN': 'Date',\n",
    "                                                        'HR_ACCDN':'Hour',\n",
    "                                                        'JR_SEMN_ACCDN':'Weekday',\n",
    "                                                        'CD_COND_METEO':'Weather Conditions',\n",
    "                                                        'CD_MUNCP':'District'\n",
    "                                                       })"
   ]
  },
  {
   "cell_type": "code",
   "execution_count": 4,
   "metadata": {},
   "outputs": [],
   "source": [
    "montreal_collisions= montreal_collisions.loc[montreal_collisions[\"GRAVITE\"]== \"Mortel\"]\n",
    "montreal_collisions= montreal_collisions.loc[montreal_collisions[\"REG_ADM\"]== \"Montréal(06)\"]"
   ]
  },
  {
   "cell_type": "code",
   "execution_count": 5,
   "metadata": {},
   "outputs": [],
   "source": [
    "montreal_collisions=pd.merge(montreal_collisions, montreal_districts, on= \"District\")"
   ]
  },
  {
   "cell_type": "code",
   "execution_count": 6,
   "metadata": {},
   "outputs": [],
   "source": [
    "montreal_collisions['Hour'] = montreal_collisions['Hour'].str[:2]\n",
    "montreal_collisions['Hour']=montreal_collisions['Hour'].replace('No',99)\n",
    "montreal_collisions['Hour']=montreal_collisions['Hour'].astype(int)"
   ]
  },
  {
   "cell_type": "code",
   "execution_count": 7,
   "metadata": {},
   "outputs": [],
   "source": [
    "montreal_data=montreal_collisions[['Longitude', 'Latitude', 'Year','Date','Hour','Districts']]\n",
    "montreal_data=montreal_data.sort_values('Year',ascending=False)\n",
    "montreal_data=montreal_data.reset_index(drop=True)\n",
    "montreal_data.to_csv('Output/montreal_data.csv')"
   ]
  },
  {
   "cell_type": "code",
   "execution_count": 8,
   "metadata": {},
   "outputs": [
    {
     "data": {
      "text/html": [
       "<div>\n",
       "<style scoped>\n",
       "    .dataframe tbody tr th:only-of-type {\n",
       "        vertical-align: middle;\n",
       "    }\n",
       "\n",
       "    .dataframe tbody tr th {\n",
       "        vertical-align: top;\n",
       "    }\n",
       "\n",
       "    .dataframe thead th {\n",
       "        text-align: right;\n",
       "    }\n",
       "</style>\n",
       "<table border=\"1\" class=\"dataframe\">\n",
       "  <thead>\n",
       "    <tr style=\"text-align: right;\">\n",
       "      <th></th>\n",
       "      <th>Longitude</th>\n",
       "      <th>Latitude</th>\n",
       "      <th>Year</th>\n",
       "      <th>Date</th>\n",
       "      <th>Hour</th>\n",
       "      <th>Districts</th>\n",
       "    </tr>\n",
       "  </thead>\n",
       "  <tbody>\n",
       "    <tr>\n",
       "      <th>0</th>\n",
       "      <td>-73.677218</td>\n",
       "      <td>45.518355</td>\n",
       "      <td>2018</td>\n",
       "      <td>2018/09/10</td>\n",
       "      <td>21</td>\n",
       "      <td>Montréal</td>\n",
       "    </tr>\n",
       "    <tr>\n",
       "      <th>1</th>\n",
       "      <td>-73.550944</td>\n",
       "      <td>45.547617</td>\n",
       "      <td>2018</td>\n",
       "      <td>2018/07/08</td>\n",
       "      <td>22</td>\n",
       "      <td>Montréal</td>\n",
       "    </tr>\n",
       "    <tr>\n",
       "      <th>2</th>\n",
       "      <td>-73.600069</td>\n",
       "      <td>45.544772</td>\n",
       "      <td>2018</td>\n",
       "      <td>2018/06/19</td>\n",
       "      <td>6</td>\n",
       "      <td>Montréal</td>\n",
       "    </tr>\n",
       "    <tr>\n",
       "      <th>3</th>\n",
       "      <td>-73.645704</td>\n",
       "      <td>45.529995</td>\n",
       "      <td>2018</td>\n",
       "      <td>2018/05/11</td>\n",
       "      <td>2</td>\n",
       "      <td>Montréal</td>\n",
       "    </tr>\n",
       "    <tr>\n",
       "      <th>4</th>\n",
       "      <td>-73.629950</td>\n",
       "      <td>45.541305</td>\n",
       "      <td>2018</td>\n",
       "      <td>2018/11/04</td>\n",
       "      <td>10</td>\n",
       "      <td>Montréal</td>\n",
       "    </tr>\n",
       "    <tr>\n",
       "      <th>...</th>\n",
       "      <td>...</td>\n",
       "      <td>...</td>\n",
       "      <td>...</td>\n",
       "      <td>...</td>\n",
       "      <td>...</td>\n",
       "      <td>...</td>\n",
       "    </tr>\n",
       "    <tr>\n",
       "      <th>174</th>\n",
       "      <td>-73.613588</td>\n",
       "      <td>45.539950</td>\n",
       "      <td>2012</td>\n",
       "      <td>2012/05/29</td>\n",
       "      <td>14</td>\n",
       "      <td>Montréal</td>\n",
       "    </tr>\n",
       "    <tr>\n",
       "      <th>175</th>\n",
       "      <td>-73.605014</td>\n",
       "      <td>45.539364</td>\n",
       "      <td>2012</td>\n",
       "      <td>2012/01/16</td>\n",
       "      <td>18</td>\n",
       "      <td>Montréal</td>\n",
       "    </tr>\n",
       "    <tr>\n",
       "      <th>176</th>\n",
       "      <td>-73.616715</td>\n",
       "      <td>45.551361</td>\n",
       "      <td>2012</td>\n",
       "      <td>2012/11/27</td>\n",
       "      <td>12</td>\n",
       "      <td>Montréal</td>\n",
       "    </tr>\n",
       "    <tr>\n",
       "      <th>177</th>\n",
       "      <td>-73.829372</td>\n",
       "      <td>45.467596</td>\n",
       "      <td>2012</td>\n",
       "      <td>2012/02/02</td>\n",
       "      <td>16</td>\n",
       "      <td>Pointe-Claire</td>\n",
       "    </tr>\n",
       "    <tr>\n",
       "      <th>178</th>\n",
       "      <td>-73.788746</td>\n",
       "      <td>45.503413</td>\n",
       "      <td>2012</td>\n",
       "      <td>2012/02/21</td>\n",
       "      <td>20</td>\n",
       "      <td>Dollard-Des Ormeaux</td>\n",
       "    </tr>\n",
       "  </tbody>\n",
       "</table>\n",
       "<p>179 rows × 6 columns</p>\n",
       "</div>"
      ],
      "text/plain": [
       "     Longitude   Latitude  Year        Date  Hour            Districts\n",
       "0   -73.677218  45.518355  2018  2018/09/10    21             Montréal\n",
       "1   -73.550944  45.547617  2018  2018/07/08    22             Montréal\n",
       "2   -73.600069  45.544772  2018  2018/06/19     6             Montréal\n",
       "3   -73.645704  45.529995  2018  2018/05/11     2             Montréal\n",
       "4   -73.629950  45.541305  2018  2018/11/04    10             Montréal\n",
       "..         ...        ...   ...         ...   ...                  ...\n",
       "174 -73.613588  45.539950  2012  2012/05/29    14             Montréal\n",
       "175 -73.605014  45.539364  2012  2012/01/16    18             Montréal\n",
       "176 -73.616715  45.551361  2012  2012/11/27    12             Montréal\n",
       "177 -73.829372  45.467596  2012  2012/02/02    16        Pointe-Claire\n",
       "178 -73.788746  45.503413  2012  2012/02/21    20  Dollard-Des Ormeaux\n",
       "\n",
       "[179 rows x 6 columns]"
      ]
     },
     "execution_count": 8,
     "metadata": {},
     "output_type": "execute_result"
    }
   ],
   "source": [
    "montreal_data"
   ]
  },
  {
   "cell_type": "code",
   "execution_count": 9,
   "metadata": {},
   "outputs": [],
   "source": [
    "final_montreal_data=pd.merge(montreal_data,montreal_incomes, how='outer',on='Districts')\n",
    "final_montreal_data= final_montreal_data.rename(columns={'Median total income of households 2015':'Median Income'})\n",
    "final_montreal_data=final_montreal_data.dropna()"
   ]
  },
  {
   "cell_type": "code",
   "execution_count": 10,
   "metadata": {},
   "outputs": [],
   "source": [
    "montreal_hoods=pd.DataFrame(final_montreal_data.groupby('Districts').count()).reset_index()\n",
    "hoods=montreal_hoods[[\"Districts\",\"Hour\"]]\n",
    "hoods= hoods.rename(columns={\"Hour\": \"Number of Collisions\"})\n",
    "final_montreal=pd.merge(hoods, montreal_incomes, how='outer',on='Districts')\n",
    "final_montreal[\"City\"]= \"Montreal\"\n",
    "final_montreal=final_montreal.rename(columns={'Districts': \"Neighbourhoods\", 'Median total income of households 2015':'Median Income'})"
   ]
  },
  {
   "cell_type": "code",
   "execution_count": 11,
   "metadata": {},
   "outputs": [],
   "source": [
    "final_montreal= final_montreal.dropna()\n",
    "final_montreal=final_montreal.sort_values(\"Median Income\").reset_index(drop=True)"
   ]
  },
  {
   "cell_type": "code",
   "execution_count": 12,
   "metadata": {},
   "outputs": [
    {
     "data": {
      "text/html": [
       "<div>\n",
       "<style scoped>\n",
       "    .dataframe tbody tr th:only-of-type {\n",
       "        vertical-align: middle;\n",
       "    }\n",
       "\n",
       "    .dataframe tbody tr th {\n",
       "        vertical-align: top;\n",
       "    }\n",
       "\n",
       "    .dataframe thead th {\n",
       "        text-align: right;\n",
       "    }\n",
       "</style>\n",
       "<table border=\"1\" class=\"dataframe\">\n",
       "  <thead>\n",
       "    <tr style=\"text-align: right;\">\n",
       "      <th></th>\n",
       "      <th>Neighbourhoods</th>\n",
       "      <th>Number of Collisions</th>\n",
       "      <th>Median Income</th>\n",
       "      <th>Population</th>\n",
       "      <th>City</th>\n",
       "    </tr>\n",
       "  </thead>\n",
       "  <tbody>\n",
       "    <tr>\n",
       "      <th>0</th>\n",
       "      <td>Montréal</td>\n",
       "      <td>155.0</td>\n",
       "      <td>50227.0</td>\n",
       "      <td>1704694.0</td>\n",
       "      <td>Montreal</td>\n",
       "    </tr>\n",
       "    <tr>\n",
       "      <th>1</th>\n",
       "      <td>Montréal-Est</td>\n",
       "      <td>2.0</td>\n",
       "      <td>50318.0</td>\n",
       "      <td>3850.0</td>\n",
       "      <td>Montreal</td>\n",
       "    </tr>\n",
       "    <tr>\n",
       "      <th>2</th>\n",
       "      <td>Côte-Saint-Luc</td>\n",
       "      <td>2.0</td>\n",
       "      <td>58935.0</td>\n",
       "      <td>32448.0</td>\n",
       "      <td>Montreal</td>\n",
       "    </tr>\n",
       "    <tr>\n",
       "      <th>3</th>\n",
       "      <td>Dorval</td>\n",
       "      <td>3.0</td>\n",
       "      <td>64689.0</td>\n",
       "      <td>18980.0</td>\n",
       "      <td>Montreal</td>\n",
       "    </tr>\n",
       "    <tr>\n",
       "      <th>4</th>\n",
       "      <td>Sainte-Anne-de-Bellevue</td>\n",
       "      <td>2.0</td>\n",
       "      <td>67200.0</td>\n",
       "      <td>4958.0</td>\n",
       "      <td>Montreal</td>\n",
       "    </tr>\n",
       "    <tr>\n",
       "      <th>5</th>\n",
       "      <td>Dollard-Des Ormeaux</td>\n",
       "      <td>2.0</td>\n",
       "      <td>78981.0</td>\n",
       "      <td>48899.0</td>\n",
       "      <td>Montreal</td>\n",
       "    </tr>\n",
       "    <tr>\n",
       "      <th>6</th>\n",
       "      <td>Pointe-Claire</td>\n",
       "      <td>4.0</td>\n",
       "      <td>80242.0</td>\n",
       "      <td>31380.0</td>\n",
       "      <td>Montreal</td>\n",
       "    </tr>\n",
       "    <tr>\n",
       "      <th>7</th>\n",
       "      <td>Westmount</td>\n",
       "      <td>2.0</td>\n",
       "      <td>100153.0</td>\n",
       "      <td>20312.0</td>\n",
       "      <td>Montreal</td>\n",
       "    </tr>\n",
       "    <tr>\n",
       "      <th>8</th>\n",
       "      <td>Mont-Royal</td>\n",
       "      <td>1.0</td>\n",
       "      <td>109540.0</td>\n",
       "      <td>20276.0</td>\n",
       "      <td>Montreal</td>\n",
       "    </tr>\n",
       "    <tr>\n",
       "      <th>9</th>\n",
       "      <td>Montréal-Ouest</td>\n",
       "      <td>2.0</td>\n",
       "      <td>115029.0</td>\n",
       "      <td>5050.0</td>\n",
       "      <td>Montreal</td>\n",
       "    </tr>\n",
       "    <tr>\n",
       "      <th>10</th>\n",
       "      <td>Kirkland</td>\n",
       "      <td>2.0</td>\n",
       "      <td>115381.0</td>\n",
       "      <td>20151.0</td>\n",
       "      <td>Montreal</td>\n",
       "    </tr>\n",
       "    <tr>\n",
       "      <th>11</th>\n",
       "      <td>Hampstead</td>\n",
       "      <td>2.0</td>\n",
       "      <td>122496.0</td>\n",
       "      <td>6973.0</td>\n",
       "      <td>Montreal</td>\n",
       "    </tr>\n",
       "  </tbody>\n",
       "</table>\n",
       "</div>"
      ],
      "text/plain": [
       "             Neighbourhoods  Number of Collisions  Median Income  Population  \\\n",
       "0                  Montréal                 155.0        50227.0   1704694.0   \n",
       "1              Montréal-Est                   2.0        50318.0      3850.0   \n",
       "2            Côte-Saint-Luc                   2.0        58935.0     32448.0   \n",
       "3                    Dorval                   3.0        64689.0     18980.0   \n",
       "4   Sainte-Anne-de-Bellevue                   2.0        67200.0      4958.0   \n",
       "5       Dollard-Des Ormeaux                   2.0        78981.0     48899.0   \n",
       "6             Pointe-Claire                   4.0        80242.0     31380.0   \n",
       "7                 Westmount                   2.0       100153.0     20312.0   \n",
       "8                Mont-Royal                   1.0       109540.0     20276.0   \n",
       "9            Montréal-Ouest                   2.0       115029.0      5050.0   \n",
       "10                 Kirkland                   2.0       115381.0     20151.0   \n",
       "11                Hampstead                   2.0       122496.0      6973.0   \n",
       "\n",
       "        City  \n",
       "0   Montreal  \n",
       "1   Montreal  \n",
       "2   Montreal  \n",
       "3   Montreal  \n",
       "4   Montreal  \n",
       "5   Montreal  \n",
       "6   Montreal  \n",
       "7   Montreal  \n",
       "8   Montreal  \n",
       "9   Montreal  \n",
       "10  Montreal  \n",
       "11  Montreal  "
      ]
     },
     "execution_count": 12,
     "metadata": {},
     "output_type": "execute_result"
    }
   ],
   "source": [
    "final_montreal"
   ]
  },
  {
   "cell_type": "code",
   "execution_count": 34,
   "metadata": {},
   "outputs": [
    {
     "data": {
      "text/html": [
       "<div>\n",
       "<style scoped>\n",
       "    .dataframe tbody tr th:only-of-type {\n",
       "        vertical-align: middle;\n",
       "    }\n",
       "\n",
       "    .dataframe tbody tr th {\n",
       "        vertical-align: top;\n",
       "    }\n",
       "\n",
       "    .dataframe thead th {\n",
       "        text-align: right;\n",
       "    }\n",
       "</style>\n",
       "<table border=\"1\" class=\"dataframe\">\n",
       "  <thead>\n",
       "    <tr style=\"text-align: right;\">\n",
       "      <th></th>\n",
       "      <th>Neighbourhoods</th>\n",
       "      <th>Number of Collisions</th>\n",
       "      <th>Median Income</th>\n",
       "      <th>Population</th>\n",
       "      <th>City</th>\n",
       "      <th>crashes per neighbourhood by population *1000</th>\n",
       "      <th>crashes per neighbourhood by population *100000</th>\n",
       "    </tr>\n",
       "  </thead>\n",
       "  <tbody>\n",
       "    <tr>\n",
       "      <th>0</th>\n",
       "      <td>Montréal</td>\n",
       "      <td>155.0</td>\n",
       "      <td>50227.0</td>\n",
       "      <td>1704694.0</td>\n",
       "      <td>Montreal</td>\n",
       "      <td>0.090925</td>\n",
       "      <td>9.092541</td>\n",
       "    </tr>\n",
       "    <tr>\n",
       "      <th>1</th>\n",
       "      <td>Montréal-Est</td>\n",
       "      <td>2.0</td>\n",
       "      <td>50318.0</td>\n",
       "      <td>3850.0</td>\n",
       "      <td>Montreal</td>\n",
       "      <td>0.519481</td>\n",
       "      <td>51.948052</td>\n",
       "    </tr>\n",
       "    <tr>\n",
       "      <th>2</th>\n",
       "      <td>Côte-Saint-Luc</td>\n",
       "      <td>2.0</td>\n",
       "      <td>58935.0</td>\n",
       "      <td>32448.0</td>\n",
       "      <td>Montreal</td>\n",
       "      <td>0.061637</td>\n",
       "      <td>6.163708</td>\n",
       "    </tr>\n",
       "    <tr>\n",
       "      <th>3</th>\n",
       "      <td>Dorval</td>\n",
       "      <td>3.0</td>\n",
       "      <td>64689.0</td>\n",
       "      <td>18980.0</td>\n",
       "      <td>Montreal</td>\n",
       "      <td>0.158061</td>\n",
       "      <td>15.806112</td>\n",
       "    </tr>\n",
       "    <tr>\n",
       "      <th>4</th>\n",
       "      <td>Sainte-Anne-de-Bellevue</td>\n",
       "      <td>2.0</td>\n",
       "      <td>67200.0</td>\n",
       "      <td>4958.0</td>\n",
       "      <td>Montreal</td>\n",
       "      <td>0.403388</td>\n",
       "      <td>40.338846</td>\n",
       "    </tr>\n",
       "    <tr>\n",
       "      <th>5</th>\n",
       "      <td>Dollard-Des Ormeaux</td>\n",
       "      <td>2.0</td>\n",
       "      <td>78981.0</td>\n",
       "      <td>48899.0</td>\n",
       "      <td>Montreal</td>\n",
       "      <td>0.040901</td>\n",
       "      <td>4.090063</td>\n",
       "    </tr>\n",
       "    <tr>\n",
       "      <th>6</th>\n",
       "      <td>Pointe-Claire</td>\n",
       "      <td>4.0</td>\n",
       "      <td>80242.0</td>\n",
       "      <td>31380.0</td>\n",
       "      <td>Montreal</td>\n",
       "      <td>0.127470</td>\n",
       "      <td>12.746973</td>\n",
       "    </tr>\n",
       "    <tr>\n",
       "      <th>7</th>\n",
       "      <td>Westmount</td>\n",
       "      <td>2.0</td>\n",
       "      <td>100153.0</td>\n",
       "      <td>20312.0</td>\n",
       "      <td>Montreal</td>\n",
       "      <td>0.098464</td>\n",
       "      <td>9.846396</td>\n",
       "    </tr>\n",
       "    <tr>\n",
       "      <th>8</th>\n",
       "      <td>Mont-Royal</td>\n",
       "      <td>1.0</td>\n",
       "      <td>109540.0</td>\n",
       "      <td>20276.0</td>\n",
       "      <td>Montreal</td>\n",
       "      <td>0.049319</td>\n",
       "      <td>4.931939</td>\n",
       "    </tr>\n",
       "    <tr>\n",
       "      <th>9</th>\n",
       "      <td>Montréal-Ouest</td>\n",
       "      <td>2.0</td>\n",
       "      <td>115029.0</td>\n",
       "      <td>5050.0</td>\n",
       "      <td>Montreal</td>\n",
       "      <td>0.396040</td>\n",
       "      <td>39.603960</td>\n",
       "    </tr>\n",
       "    <tr>\n",
       "      <th>10</th>\n",
       "      <td>Kirkland</td>\n",
       "      <td>2.0</td>\n",
       "      <td>115381.0</td>\n",
       "      <td>20151.0</td>\n",
       "      <td>Montreal</td>\n",
       "      <td>0.099251</td>\n",
       "      <td>9.925066</td>\n",
       "    </tr>\n",
       "    <tr>\n",
       "      <th>11</th>\n",
       "      <td>Hampstead</td>\n",
       "      <td>2.0</td>\n",
       "      <td>122496.0</td>\n",
       "      <td>6973.0</td>\n",
       "      <td>Montreal</td>\n",
       "      <td>0.286821</td>\n",
       "      <td>28.682059</td>\n",
       "    </tr>\n",
       "  </tbody>\n",
       "</table>\n",
       "</div>"
      ],
      "text/plain": [
       "             Neighbourhoods  Number of Collisions  Median Income  Population  \\\n",
       "0                  Montréal                 155.0        50227.0   1704694.0   \n",
       "1              Montréal-Est                   2.0        50318.0      3850.0   \n",
       "2            Côte-Saint-Luc                   2.0        58935.0     32448.0   \n",
       "3                    Dorval                   3.0        64689.0     18980.0   \n",
       "4   Sainte-Anne-de-Bellevue                   2.0        67200.0      4958.0   \n",
       "5       Dollard-Des Ormeaux                   2.0        78981.0     48899.0   \n",
       "6             Pointe-Claire                   4.0        80242.0     31380.0   \n",
       "7                 Westmount                   2.0       100153.0     20312.0   \n",
       "8                Mont-Royal                   1.0       109540.0     20276.0   \n",
       "9            Montréal-Ouest                   2.0       115029.0      5050.0   \n",
       "10                 Kirkland                   2.0       115381.0     20151.0   \n",
       "11                Hampstead                   2.0       122496.0      6973.0   \n",
       "\n",
       "        City  crashes per neighbourhood by population *1000  \\\n",
       "0   Montreal                                       0.090925   \n",
       "1   Montreal                                       0.519481   \n",
       "2   Montreal                                       0.061637   \n",
       "3   Montreal                                       0.158061   \n",
       "4   Montreal                                       0.403388   \n",
       "5   Montreal                                       0.040901   \n",
       "6   Montreal                                       0.127470   \n",
       "7   Montreal                                       0.098464   \n",
       "8   Montreal                                       0.049319   \n",
       "9   Montreal                                       0.396040   \n",
       "10  Montreal                                       0.099251   \n",
       "11  Montreal                                       0.286821   \n",
       "\n",
       "    crashes per neighbourhood by population *100000  \n",
       "0                                          9.092541  \n",
       "1                                         51.948052  \n",
       "2                                          6.163708  \n",
       "3                                         15.806112  \n",
       "4                                         40.338846  \n",
       "5                                          4.090063  \n",
       "6                                         12.746973  \n",
       "7                                          9.846396  \n",
       "8                                          4.931939  \n",
       "9                                         39.603960  \n",
       "10                                         9.925066  \n",
       "11                                        28.682059  "
      ]
     },
     "execution_count": 34,
     "metadata": {},
     "output_type": "execute_result"
    }
   ],
   "source": [
    "final_montreal[\"crashes per neighbourhood by population *100000\"]= (final_montreal[\"Number of Collisions\"]/final_montreal[\"Population\"])*100000\n",
    "final_montreal"
   ]
  },
  {
   "cell_type": "code",
   "execution_count": 36,
   "metadata": {},
   "outputs": [
    {
     "data": {
      "image/png": "[encoded data removed]",
      "text/plain": [
       "<Figure size 432x288 with 1 Axes>"
      ]
     },
     "metadata": {
      "needs_background": "light"
     },
     "output_type": "display_data"
    }
   ],
   "source": [
    "plt.bar(final_montreal[\"Neighbourhoods\"], final_montreal[\"crashes per neighbourhood by population *100000\"])\n",
    "plt.title('Crashes per Neighbourhoods-normalized by population')\n",
    "plt.xticks(rotation=\"vertical\")\n",
    "plt.savefig('Output/normalized-bar.png')"
   ]
  },
  {
   "cell_type": "code",
   "execution_count": 37,
   "metadata": {},
   "outputs": [
    {
     "data": {
      "image/png": "[encoded data removed]",
      "text/plain": [
       "<Figure size 432x288 with 1 Axes>"
      ]
     },
     "metadata": {
      "needs_background": "light"
     },
     "output_type": "display_data"
    }
   ],
   "source": [
    "plt.scatter(final_montreal['Median Income'],final_montreal[\"crashes per neighbourhood by population *100000\"])\n",
    "plt.xticks(rotation=\"vertical\")\n",
    "plt.title('Collision Fatalities Related to Neighbourhood incomes (Montreal)')\n",
    "plt.savefig('Output/normperincome.png')"
   ]
  },
  {
   "cell_type": "code",
   "execution_count": 13,
   "metadata": {},
   "outputs": [],
   "source": [
    "final_montreal.to_csv('Output/final_montreal.csv')"
   ]
  },
  {
   "cell_type": "code",
   "execution_count": 14,
   "metadata": {},
   "outputs": [
    {
     "data": {
      "image/png": "[encoded data removed]",
      "text/plain": [
       "<Figure size 432x288 with 1 Axes>"
      ]
     },
     "metadata": {
      "needs_background": "light"
     },
     "output_type": "display_data"
    }
   ],
   "source": [
    "plt.bar(final_montreal[\"Neighbourhoods\"], final_montreal[\"Number of Collisions\"])\n",
    "plt.title('Crashes per Neighbourhoods')\n",
    "plt.xticks(rotation=\"vertical\")\n",
    "plt.savefig('Output/hoods-bar.png')"
   ]
  },
  {
   "cell_type": "code",
   "execution_count": 15,
   "metadata": {},
   "outputs": [],
   "source": [
    "income_analysis= final_montreal_data.groupby(\"Hour\").count()\n",
    "income_analysis=income_analysis.drop(99.0, axis=0)\n",
    "income_analysis=income_analysis.reset_index()"
   ]
  },
  {
   "cell_type": "code",
   "execution_count": 16,
   "metadata": {},
   "outputs": [
    {
     "data": {
      "image/png": "[encoded data removed]",
      "text/plain": [
       "<Figure size 432x288 with 1 Axes>"
      ]
     },
     "metadata": {
      "needs_background": "light"
     },
     "output_type": "display_data"
    }
   ],
   "source": [
    "plt.bar(income_analysis['Hour'],income_analysis['Year'])\n",
    "plt.title('Crashes per hour')\n",
    "plt.savefig('Output/districts_hist.png')"
   ]
  },
  {
   "cell_type": "code",
   "execution_count": 17,
   "metadata": {},
   "outputs": [
    {
     "data": {
      "image/png": "[encoded data removed]",
      "text/plain": [
       "<Figure size 432x288 with 1 Axes>"
      ]
     },
     "metadata": {
      "needs_background": "light"
     },
     "output_type": "display_data"
    }
   ],
   "source": [
    "plt.scatter(final_montreal['Median Income'],final_montreal['Number of Collisions'])\n",
    "plt.xticks(rotation=\"vertical\")\n",
    "plt.title('Collision Fatalities Related to Neighbourhood incomes (Montreal)')\n",
    "plt.savefig('Output/crashesperincome.png')"
   ]
  },
  {
   "cell_type": "code",
   "execution_count": 20,
   "metadata": {},
   "outputs": [],
   "source": [
    "new_final_montreal = final_montreal.drop(final_montreal.index[0])"
   ]
  },
  {
   "cell_type": "code",
   "execution_count": 27,
   "metadata": {},
   "outputs": [
    {
     "data": {
      "image/png": "[encoded data removed]",
      "text/plain": [
       "<Figure size 432x288 with 1 Axes>"
      ]
     },
     "metadata": {
      "needs_background": "light"
     },
     "output_type": "display_data"
    }
   ],
   "source": [
    "x_axis =new_final_montreal['Median Income']\n",
    "y_axis =new_final_montreal['Number of Collisions']\n",
    "\n",
    "(slope, intercept, rvalue, pvalue, stderr) = sts.linregress(x_axis,y_axis)\n",
    "rvalue=round(rvalue,5)\n",
    "regress_values = x_axis * slope + intercept\n",
    "line_eq = \"y = \" + str(round(slope,5)) + \"x + \" + str(round(intercept,2))\n",
    "\n",
    "plt.scatter(new_final_montreal['Median Income'],new_final_montreal['Number of Collisions'])\n",
    "\n",
    "plt.xticks(rotation=\"vertical\")\n",
    "plt.title('Collision Fatalities Related to Neighbourhood incomes (Montreal)')\n",
    "plt.annotate(line_eq,(70000,3.5), fontsize=12,color='olivedrab')\n",
    "plt.annotate(rvalue,(70000,3), fontsize=10,color='olivedrab')\n",
    "\n",
    "best_fit = slope * x_axis + intercept\n",
    "plt.plot(x_axis,best_fit,linestyle='--', c='olivedrab', lw=2,alpha=.7)\n",
    "\n",
    "plt.savefig('Output/fatalities_without_montreal.png')"
   ]
  },
  {
   "cell_type": "code",
   "execution_count": 18,
   "metadata": {},
   "outputs": [],
   "source": [
    "gmaps.configure(api_key=g_key)"
   ]
  },
  {
   "cell_type": "code",
   "execution_count": 19,
   "metadata": {},
   "outputs": [
    {
     "data": {
      "application/vnd.jupyter.widget-view+json": {
       "model_id": "a189b03db3a149a392b95186d2ad5da9",
       "version_major": 2,
       "version_minor": 0
      },
      "text/plain": [
       "Figure(layout=FigureLayout(height='420px'))"
      ]
     },
     "metadata": {},
     "output_type": "display_data"
    }
   ],
   "source": [
    "locations = final_montreal_data[[\"Latitude\", \"Longitude\"]].astype(float)\n",
    "fig = gmaps.figure(map_type='HYBRID')\n",
    "heatmap_layer = gmaps.heatmap_layer(locations)\n",
    "fig.add_layer(heatmap_layer)\n",
    "fig"
   ]
  },
  {
   "cell_type": "code",
   "execution_count": null,
   "metadata": {},
   "outputs": [],
   "source": []
  }
 ],
 "metadata": {
  "kernelspec": {
   "display_name": "Python 3",
   "language": "python",
   "name": "python3"
  },
  "language_info": {
   "codemirror_mode": {
    "name": "ipython",
    "version": 3
   },
   "file_extension": ".py",
   "mimetype": "text/x-python",
   "name": "python",
   "nbconvert_exporter": "python",
   "pygments_lexer": "ipython3",
   "version": "3.6.10"
  }
 },
 "nbformat": 4,
 "nbformat_minor": 4
}
