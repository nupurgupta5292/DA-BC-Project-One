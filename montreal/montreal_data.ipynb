{
 "cells": [
  {
   "cell_type": "code",
   "execution_count": 2,
   "metadata": {},
   "outputs": [],
   "source": [
    "import pandas as pd\n",
    "import numpy as np\n",
    "import matplotlib.pyplot as plt\n",
    "import scipy.stats as sts\n",
    "import gmaps\n",
    "from api_keys import g_key\n",
    "from ipywidgets.embed import embed_minimal_html"
   ]
  },
  {
   "cell_type": "code",
   "execution_count": 3,
   "metadata": {},
   "outputs": [],
   "source": [
    "montreal_collisions = pd.read_csv('Resources/montreal_2012_2018.csv')\n",
    "montreal_incomes = pd.read_csv('Resources/montreal_incomes.csv')\n",
    "montreal_districts = pd.read_csv('Resources/montreal_districts.csv')"
   ]
  },
  {
   "cell_type": "code",
   "execution_count": 4,
   "metadata": {},
   "outputs": [],
   "source": [
    "montreal_collisions=montreal_collisions.rename(columns={'LOC_LONG':'Longitude',\n",
    "                                                        'LOC_LAT':'Latitude',\n",
    "                                                        'AN': 'Year',\n",
    "                                                        'DT_ACCDN': 'Date',\n",
    "                                                        'HR_ACCDN':'Hour',\n",
    "                                                        'JR_SEMN_ACCDN':'Weekday',\n",
    "                                                        'CD_COND_METEO':'Weather Conditions',\n",
    "                                                        'CD_MUNCP':'District'\n",
    "                                                       })"
   ]
  },
  {
   "cell_type": "code",
   "execution_count": 5,
   "metadata": {},
   "outputs": [],
   "source": [
    "montreal_collisions= montreal_collisions.loc[montreal_collisions[\"GRAVITE\"]== \"Mortel\"]\n",
    "montreal_collisions= montreal_collisions.loc[montreal_collisions[\"REG_ADM\"]== \"Montréal(06)\"]"
   ]
  },
  {
   "cell_type": "code",
   "execution_count": 6,
   "metadata": {},
   "outputs": [],
   "source": [
    "montreal_collisions=pd.merge(montreal_collisions, montreal_districts, on= \"District\")"
   ]
  },
  {
   "cell_type": "code",
   "execution_count": 7,
   "metadata": {},
   "outputs": [],
   "source": [
    "montreal_collisions['Hour'] = montreal_collisions['Hour'].str[:2]\n",
    "montreal_collisions['Hour']=montreal_collisions['Hour'].replace('No',99)\n",
    "montreal_collisions['Hour']=montreal_collisions['Hour'].astype(int)"
   ]
  },
  {
   "cell_type": "code",
   "execution_count": 18,
   "metadata": {},
   "outputs": [],
   "source": [
    "montreal_data=montreal_collisions[['Longitude', 'Latitude', 'Year','Date','Hour','Districts']]\n",
    "montreal_data=montreal_data.sort_values('Year',ascending=False)\n",
    "montreal_data.reset_index(drop=True)\n",
    "montreal_data.to_csv('Output/montreal_data.csv')"
   ]
  },
  {
   "cell_type": "code",
   "execution_count": 31,
   "metadata": {},
   "outputs": [],
   "source": [
    "final_montreal_data=pd.merge(montreal_data,montreal_incomes, how='outer',on='Districts')\n",
    "final_montreal_data= final_montreal_data.rename(columns={'Median total income of households 2015':'Median Income'})\n",
    "final_montreal_data=final_montreal_data.dropna()"
   ]
  },
  {
   "cell_type": "code",
   "execution_count": 34,
   "metadata": {},
   "outputs": [],
   "source": [
    "montreal_hoods=pd.DataFrame(final_montreal_data.groupby('Districts').count()).reset_index()\n",
    "hoods=montreal_hoods[[\"Districts\",\"Hour\"]]\n",
    "hoods= hoods.rename(columns={\"Hour\": \"Number of Collisions\"})\n",
    "final_montreal=pd.merge(hoods, montreal_incomes, how='outer',on='Districts')\n",
    "final_montreal[\"City\"]= \"Montreal\"\n",
    "final_montreal=final_montreal.rename(columns={'Districts': \"Neighbourhoods\", 'Median total income of households 2015':'Median Income'})"
   ]
  },
  {
   "cell_type": "code",
   "execution_count": 21,
   "metadata": {},
   "outputs": [],
   "source": [
    "final_montreal.to_csv('Output/final_montreal.csv')"
   ]
  },
  {
   "cell_type": "code",
   "execution_count": 28,
   "metadata": {},
   "outputs": [],
   "source": [
    "income_analysis= final_montreal_data.groupby(\"Hour\").count()\n",
    "income_analysis=income_analysis.drop(99.0, axis=0)\n",
    "income_analysis=income_analysis.reset_index()"
   ]
  },
  {
   "cell_type": "code",
   "execution_count": 25,
   "metadata": {},
   "outputs": [
    {
     "data": {
      "image/png": "[encoded data removed]",
      "text/plain": [
       "<Figure size 432x288 with 1 Axes>"
      ]
     },
     "metadata": {
      "needs_background": "light"
     },
     "output_type": "display_data"
    }
   ],
   "source": [
    "plt.bar(income_analysis['Hour'],income_analysis['Year'])\n",
    "plt.title('Crashes per hour')\n",
    "plt.savefig('Output/districts_hist.png')"
   ]
  },
  {
   "cell_type": "code",
   "execution_count": 49,
   "metadata": {},
   "outputs": [],
   "source": [
    "final_drop=final_montreal.dropna()\n",
    "final_drop=final_drop.sort_values(\"Median Income\", ascending= False)"
   ]
  },
  {
   "cell_type": "code",
   "execution_count": 50,
   "metadata": {},
   "outputs": [
    {
     "data": {
      "text/plain": [
       "Text(0.5, 1.0, 'Crashes per income')"
      ]
     },
     "execution_count": 50,
     "metadata": {},
     "output_type": "execute_result"
    },
    {
     "data": {
      "image/png": "[encoded data removed]",
      "text/plain": [
       "<Figure size 432x288 with 1 Axes>"
      ]
     },
     "metadata": {
      "needs_background": "light"
     },
     "output_type": "display_data"
    }
   ],
   "source": [
    "plt.scatter(final_drop['Median Income'],final_drop['Number of Collisions'])\n",
    "plt.xticks(rotation=\"vertical\")\n",
    "plt.title('Crashes per income')"
   ]
  },
  {
   "cell_type": "code",
   "execution_count": 26,
   "metadata": {},
   "outputs": [],
   "source": [
    "gmaps.configure(api_key=g_key)"
   ]
  },
  {
   "cell_type": "code",
   "execution_count": 27,
   "metadata": {},
   "outputs": [
    {
     "data": {
      "application/vnd.jupyter.widget-view+json": {
       "model_id": "470a8ec176034bd4a32147868562fd96",
       "version_major": 2,
       "version_minor": 0
      },
      "text/plain": [
       "Figure(layout=FigureLayout(height='420px'))"
      ]
     },
     "metadata": {},
     "output_type": "display_data"
    }
   ],
   "source": [
    "locations = final_montreal_data[[\"Latitude\", \"Longitude\"]].astype(float)\n",
    "fig = gmaps.figure(map_type='HYBRID')\n",
    "heatmap_layer = gmaps.heatmap_layer(locations)\n",
    "fig.add_layer(heatmap_layer)\n",
    "fig"
   ]
  },
  {
   "cell_type": "code",
   "execution_count": null,
   "metadata": {},
   "outputs": [],
   "source": []
  }
 ],
 "metadata": {
  "kernelspec": {
   "display_name": "Python 3",
   "language": "python",
   "name": "python3"
  },
  "language_info": {
   "codemirror_mode": {
    "name": "ipython",
    "version": 3
   },
   "file_extension": ".py",
   "mimetype": "text/x-python",
   "name": "python",
   "nbconvert_exporter": "python",
   "pygments_lexer": "ipython3",
   "version": "3.6.10"
  }
 },
 "nbformat": 4,
 "nbformat_minor": 4
}
