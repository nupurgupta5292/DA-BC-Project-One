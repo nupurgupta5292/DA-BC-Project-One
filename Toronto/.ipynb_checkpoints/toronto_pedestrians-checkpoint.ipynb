{
 "cells": [
  {
   "cell_type": "code",
   "execution_count": 12,
   "metadata": {},
   "outputs": [],
   "source": [
    "# Use Pedestrian column from police data to create new dataframe.\n",
    "# Hope to show correlation between more pedestrians involved in road fatalities in lower income neighbourhoods"
   ]
  },
  {
   "cell_type": "code",
   "execution_count": 28,
   "metadata": {},
   "outputs": [],
   "source": [
    "import pandas as pd\n",
    "import numpy as np\n",
    "import matplotlib.pyplot as plt\n",
    "import scipy.stats as sts"
   ]
  },
  {
   "cell_type": "code",
   "execution_count": 29,
   "metadata": {},
   "outputs": [],
   "source": [
    "#Data sets\n",
    "#toronto police data\n",
    "toronto_collision= pd.read_csv('Resources/Fatal_Collisions_toronto.csv')\n",
    "#Toronto census data\n",
    "toronto_income= pd.read_csv('Resources/income_toronto.csv')"
   ]
  },
  {
   "cell_type": "code",
   "execution_count": 30,
   "metadata": {},
   "outputs": [
    {
     "data": {
      "text/plain": [
       "Index(['X', 'Y', 'Index_', 'ACCNUM', 'YEAR', 'DATE', 'TIME', 'Hour', 'STREET1',\n",
       "       'STREET2', 'OFFSET', 'ROAD_CLASS', 'District', 'WardNum', 'WardNum_X',\n",
       "       'WardNum_Y', 'Division', 'Division_X', 'Division_Y', 'LATITUDE',\n",
       "       'LONGITUDE', 'LOCCOORD', 'ACCLOC', 'TRAFFCTL', 'VISIBILITY', 'LIGHT',\n",
       "       'RDSFCOND', 'ACCLASS', 'IMPACTYPE', 'INVTYPE', 'INVAGE', 'INJURY',\n",
       "       'FATAL_NO', 'INITDIR', 'VEHTYPE', 'MANOEUVER', 'DRIVACT', 'DRIVCOND',\n",
       "       'PEDTYPE', 'PEDACT', 'PEDCOND', 'CYCLISTYPE', 'CYCACT', 'CYCCOND',\n",
       "       'PEDESTRIAN', 'CYCLIST', 'AUTOMOBILE', 'MOTORCYCLE', 'TRUCK',\n",
       "       'TRSN_CITY_', 'EMERG_VEH', 'PASSENGER', 'SPEEDING', 'AG_DRIV',\n",
       "       'REDLIGHT', 'ALCOHOL', 'DISABILITY', 'Hood_ID', 'Neighbourhood',\n",
       "       'ObjectId'],\n",
       "      dtype='object')"
      ]
     },
     "execution_count": 30,
     "metadata": {},
     "output_type": "execute_result"
    }
   ],
   "source": [
    "#list columns- choose pedestrian related incidents\n",
    "toronto_collision.columns\n",
    "# toronto_income.columns"
   ]
  },
  {
   "cell_type": "code",
   "execution_count": 31,
   "metadata": {},
   "outputs": [],
   "source": [
    "# Clean column layouts\n",
    "toronto_income=toronto_income.rename(columns={'Population, 2016':'Population','Median Household Income Before Taxes':'Median Income'})\n",
    "\n",
    "toronto_pedestrian=toronto_collision[['Neighbourhood','PEDESTRIAN']]\n",
    "toronto_pedestrian=toronto_pedestrian.rename(columns={'PEDESTRIAN':'Pedestrian'\n",
    "                                                    })\n"
   ]
  },
  {
   "cell_type": "code",
   "execution_count": 33,
   "metadata": {},
   "outputs": [
    {
     "data": {
      "text/html": [
       "<div>\n",
       "<style scoped>\n",
       "    .dataframe tbody tr th:only-of-type {\n",
       "        vertical-align: middle;\n",
       "    }\n",
       "\n",
       "    .dataframe tbody tr th {\n",
       "        vertical-align: top;\n",
       "    }\n",
       "\n",
       "    .dataframe thead th {\n",
       "        text-align: right;\n",
       "    }\n",
       "</style>\n",
       "<table border=\"1\" class=\"dataframe\">\n",
       "  <thead>\n",
       "    <tr style=\"text-align: right;\">\n",
       "      <th></th>\n",
       "      <th>Neighbourhood</th>\n",
       "      <th>Pedestrian</th>\n",
       "      <th>Median Income</th>\n",
       "      <th>Population</th>\n",
       "    </tr>\n",
       "  </thead>\n",
       "  <tbody>\n",
       "    <tr>\n",
       "      <td>0</td>\n",
       "      <td>Agincourt/Malvern</td>\n",
       "      <td>Yes</td>\n",
       "      <td>68108</td>\n",
       "      <td>96664</td>\n",
       "    </tr>\n",
       "    <tr>\n",
       "      <td>1</td>\n",
       "      <td>Agincourt/Malvern</td>\n",
       "      <td>Yes</td>\n",
       "      <td>68108</td>\n",
       "      <td>96664</td>\n",
       "    </tr>\n",
       "    <tr>\n",
       "      <td>2</td>\n",
       "      <td>Agincourt/Malvern</td>\n",
       "      <td></td>\n",
       "      <td>68108</td>\n",
       "      <td>96664</td>\n",
       "    </tr>\n",
       "    <tr>\n",
       "      <td>3</td>\n",
       "      <td>Agincourt/Malvern</td>\n",
       "      <td>Yes</td>\n",
       "      <td>68108</td>\n",
       "      <td>96664</td>\n",
       "    </tr>\n",
       "    <tr>\n",
       "      <td>4</td>\n",
       "      <td>Agincourt/Malvern</td>\n",
       "      <td>Yes</td>\n",
       "      <td>68108</td>\n",
       "      <td>96664</td>\n",
       "    </tr>\n",
       "    <tr>\n",
       "      <td>...</td>\n",
       "      <td>...</td>\n",
       "      <td>...</td>\n",
       "      <td>...</td>\n",
       "      <td>...</td>\n",
       "    </tr>\n",
       "    <tr>\n",
       "      <td>605</td>\n",
       "      <td>St.Andrew-Windfields</td>\n",
       "      <td></td>\n",
       "      <td>98420</td>\n",
       "      <td>17812</td>\n",
       "    </tr>\n",
       "    <tr>\n",
       "      <td>606</td>\n",
       "      <td>Parkwoods-Donalda</td>\n",
       "      <td>Yes</td>\n",
       "      <td>65126</td>\n",
       "      <td>10529</td>\n",
       "    </tr>\n",
       "    <tr>\n",
       "      <td>607</td>\n",
       "      <td>Henry Farm</td>\n",
       "      <td></td>\n",
       "      <td>56644</td>\n",
       "      <td>15723</td>\n",
       "    </tr>\n",
       "    <tr>\n",
       "      <td>608</td>\n",
       "      <td>Henry Farm</td>\n",
       "      <td></td>\n",
       "      <td>56644</td>\n",
       "      <td>15723</td>\n",
       "    </tr>\n",
       "    <tr>\n",
       "      <td>609</td>\n",
       "      <td>Woodbine Corridor</td>\n",
       "      <td>Yes</td>\n",
       "      <td>72792</td>\n",
       "      <td>12541</td>\n",
       "    </tr>\n",
       "  </tbody>\n",
       "</table>\n",
       "<p>610 rows × 4 columns</p>\n",
       "</div>"
      ],
      "text/plain": [
       "            Neighbourhood Pedestrian  Median Income  Population\n",
       "0       Agincourt/Malvern        Yes          68108       96664\n",
       "1       Agincourt/Malvern        Yes          68108       96664\n",
       "2       Agincourt/Malvern                     68108       96664\n",
       "3       Agincourt/Malvern        Yes          68108       96664\n",
       "4       Agincourt/Malvern        Yes          68108       96664\n",
       "..                    ...        ...            ...         ...\n",
       "605  St.Andrew-Windfields                     98420       17812\n",
       "606     Parkwoods-Donalda        Yes          65126       10529\n",
       "607            Henry Farm                     56644       15723\n",
       "608            Henry Farm                     56644       15723\n",
       "609     Woodbine Corridor        Yes          72792       12541\n",
       "\n",
       "[610 rows x 4 columns]"
      ]
     },
     "execution_count": 33,
     "metadata": {},
     "output_type": "execute_result"
    }
   ],
   "source": [
    "# Merge pedestrian dataframe with income\n",
    "toronto_pedestrian=pd.merge(toronto_pedestrian,toronto_income)"
   ]
  },
  {
   "cell_type": "code",
   "execution_count": 34,
   "metadata": {},
   "outputs": [
    {
     "data": {
      "text/html": [
       "<div>\n",
       "<style scoped>\n",
       "    .dataframe tbody tr th:only-of-type {\n",
       "        vertical-align: middle;\n",
       "    }\n",
       "\n",
       "    .dataframe tbody tr th {\n",
       "        vertical-align: top;\n",
       "    }\n",
       "\n",
       "    .dataframe thead th {\n",
       "        text-align: right;\n",
       "    }\n",
       "</style>\n",
       "<table border=\"1\" class=\"dataframe\">\n",
       "  <thead>\n",
       "    <tr style=\"text-align: right;\">\n",
       "      <th></th>\n",
       "      <th>Neighbourhood</th>\n",
       "      <th>Pedestrian</th>\n",
       "      <th>Median Income</th>\n",
       "      <th>Population</th>\n",
       "    </tr>\n",
       "  </thead>\n",
       "  <tbody>\n",
       "    <tr>\n",
       "      <td>0</td>\n",
       "      <td>Agincourt/Malvern</td>\n",
       "      <td>Yes</td>\n",
       "      <td>68108</td>\n",
       "      <td>96664</td>\n",
       "    </tr>\n",
       "    <tr>\n",
       "      <td>1</td>\n",
       "      <td>Agincourt/Malvern</td>\n",
       "      <td>Yes</td>\n",
       "      <td>68108</td>\n",
       "      <td>96664</td>\n",
       "    </tr>\n",
       "    <tr>\n",
       "      <td>3</td>\n",
       "      <td>Agincourt/Malvern</td>\n",
       "      <td>Yes</td>\n",
       "      <td>68108</td>\n",
       "      <td>96664</td>\n",
       "    </tr>\n",
       "    <tr>\n",
       "      <td>4</td>\n",
       "      <td>Agincourt/Malvern</td>\n",
       "      <td>Yes</td>\n",
       "      <td>68108</td>\n",
       "      <td>96664</td>\n",
       "    </tr>\n",
       "    <tr>\n",
       "      <td>5</td>\n",
       "      <td>Agincourt/Malvern</td>\n",
       "      <td>Yes</td>\n",
       "      <td>68108</td>\n",
       "      <td>96664</td>\n",
       "    </tr>\n",
       "    <tr>\n",
       "      <td>...</td>\n",
       "      <td>...</td>\n",
       "      <td>...</td>\n",
       "      <td>...</td>\n",
       "      <td>...</td>\n",
       "    </tr>\n",
       "    <tr>\n",
       "      <td>601</td>\n",
       "      <td>Roncesvalles</td>\n",
       "      <td>Yes</td>\n",
       "      <td>63130</td>\n",
       "      <td>20923</td>\n",
       "    </tr>\n",
       "    <tr>\n",
       "      <td>602</td>\n",
       "      <td>Roncesvalles</td>\n",
       "      <td>Yes</td>\n",
       "      <td>63130</td>\n",
       "      <td>20923</td>\n",
       "    </tr>\n",
       "    <tr>\n",
       "      <td>603</td>\n",
       "      <td>Roncesvalles</td>\n",
       "      <td>Yes</td>\n",
       "      <td>63130</td>\n",
       "      <td>20923</td>\n",
       "    </tr>\n",
       "    <tr>\n",
       "      <td>606</td>\n",
       "      <td>Parkwoods-Donalda</td>\n",
       "      <td>Yes</td>\n",
       "      <td>65126</td>\n",
       "      <td>10529</td>\n",
       "    </tr>\n",
       "    <tr>\n",
       "      <td>609</td>\n",
       "      <td>Woodbine Corridor</td>\n",
       "      <td>Yes</td>\n",
       "      <td>72792</td>\n",
       "      <td>12541</td>\n",
       "    </tr>\n",
       "  </tbody>\n",
       "</table>\n",
       "<p>354 rows × 4 columns</p>\n",
       "</div>"
      ],
      "text/plain": [
       "         Neighbourhood Pedestrian  Median Income  Population\n",
       "0    Agincourt/Malvern        Yes          68108       96664\n",
       "1    Agincourt/Malvern        Yes          68108       96664\n",
       "3    Agincourt/Malvern        Yes          68108       96664\n",
       "4    Agincourt/Malvern        Yes          68108       96664\n",
       "5    Agincourt/Malvern        Yes          68108       96664\n",
       "..                 ...        ...            ...         ...\n",
       "601       Roncesvalles        Yes          63130       20923\n",
       "602       Roncesvalles        Yes          63130       20923\n",
       "603       Roncesvalles        Yes          63130       20923\n",
       "606  Parkwoods-Donalda        Yes          65126       10529\n",
       "609  Woodbine Corridor        Yes          72792       12541\n",
       "\n",
       "[354 rows x 4 columns]"
      ]
     },
     "execution_count": 34,
     "metadata": {},
     "output_type": "execute_result"
    }
   ],
   "source": [
    "#Keep only rows involving pedestrians\n",
    "toronto_pedestrian=(toronto_pedestrian[toronto_pedestrian[\"Pedestrian\"] == 'Yes'])\n",
    "toronto_pedestrian"
   ]
  },
  {
   "cell_type": "code",
   "execution_count": 55,
   "metadata": {},
   "outputs": [
    {
     "data": {
      "text/html": [
       "<div>\n",
       "<style scoped>\n",
       "    .dataframe tbody tr th:only-of-type {\n",
       "        vertical-align: middle;\n",
       "    }\n",
       "\n",
       "    .dataframe tbody tr th {\n",
       "        vertical-align: top;\n",
       "    }\n",
       "\n",
       "    .dataframe thead th {\n",
       "        text-align: right;\n",
       "    }\n",
       "</style>\n",
       "<table border=\"1\" class=\"dataframe\">\n",
       "  <thead>\n",
       "    <tr style=\"text-align: right;\">\n",
       "      <th></th>\n",
       "      <th>Collisions with Pedestrians</th>\n",
       "      <th>Median Income</th>\n",
       "    </tr>\n",
       "    <tr>\n",
       "      <th>Neighbourhood</th>\n",
       "      <th></th>\n",
       "      <th></th>\n",
       "    </tr>\n",
       "  </thead>\n",
       "  <tbody>\n",
       "    <tr>\n",
       "      <td>North St.James Town</td>\n",
       "      <td>2</td>\n",
       "      <td>41016</td>\n",
       "    </tr>\n",
       "    <tr>\n",
       "      <td>Kensington-Chinatown</td>\n",
       "      <td>7</td>\n",
       "      <td>44216</td>\n",
       "    </tr>\n",
       "    <tr>\n",
       "      <td>Weston</td>\n",
       "      <td>1</td>\n",
       "      <td>45696</td>\n",
       "    </tr>\n",
       "    <tr>\n",
       "      <td>Bay Street Corridor</td>\n",
       "      <td>5</td>\n",
       "      <td>48737</td>\n",
       "    </tr>\n",
       "    <tr>\n",
       "      <td>Flemingdon Park</td>\n",
       "      <td>2</td>\n",
       "      <td>48917</td>\n",
       "    </tr>\n",
       "    <tr>\n",
       "      <td>...</td>\n",
       "      <td>...</td>\n",
       "      <td>...</td>\n",
       "    </tr>\n",
       "    <tr>\n",
       "      <td>Bedford Park-Nortown</td>\n",
       "      <td>6</td>\n",
       "      <td>116672</td>\n",
       "    </tr>\n",
       "    <tr>\n",
       "      <td>Forest Hill South</td>\n",
       "      <td>3</td>\n",
       "      <td>119484</td>\n",
       "    </tr>\n",
       "    <tr>\n",
       "      <td>Leaside-Bennington</td>\n",
       "      <td>3</td>\n",
       "      <td>126930</td>\n",
       "    </tr>\n",
       "    <tr>\n",
       "      <td>Lawrence Park North</td>\n",
       "      <td>2</td>\n",
       "      <td>144963</td>\n",
       "    </tr>\n",
       "    <tr>\n",
       "      <td>Lawrence Park South</td>\n",
       "      <td>2</td>\n",
       "      <td>151885</td>\n",
       "    </tr>\n",
       "  </tbody>\n",
       "</table>\n",
       "<p>90 rows × 2 columns</p>\n",
       "</div>"
      ],
      "text/plain": [
       "                      Collisions with Pedestrians  Median Income\n",
       "Neighbourhood                                                   \n",
       "North St.James Town                             2          41016\n",
       "Kensington-Chinatown                            7          44216\n",
       "Weston                                          1          45696\n",
       "Bay Street Corridor                             5          48737\n",
       "Flemingdon Park                                 2          48917\n",
       "...                                           ...            ...\n",
       "Bedford Park-Nortown                            6         116672\n",
       "Forest Hill South                               3         119484\n",
       "Leaside-Bennington                              3         126930\n",
       "Lawrence Park North                             2         144963\n",
       "Lawrence Park South                             2         151885\n",
       "\n",
       "[90 rows x 2 columns]"
      ]
     },
     "execution_count": 55,
     "metadata": {},
     "output_type": "execute_result"
    }
   ],
   "source": [
    "#Group by neighbourhood\n",
    "pedestrian_collisions=pd.DataFrame(toronto_pedestrian.groupby('Neighbourhood')['Pedestrian'].count())\n",
    "\n",
    "pedestrian_income=pd.DataFrame(toronto_pedestrian.groupby('Neighbourhood')['Median Income'].min())\n",
    "\n",
    "pedesitrian_hood=pd.merge(pedestrian_collisions,pedestrian_income, on='Neighbourhood')\n",
    "pedesitrian_hood=pedesitrian_hood.rename(columns={'Pedestrian':'Collisions with Pedestrians'})\n",
    "pedesitrian_hood=pedesitrian_hood.sort_values('Median Income',ascending=True)\n",
    "pedesitrian_hood"
   ]
  },
  {
   "cell_type": "code",
   "execution_count": 52,
   "metadata": {},
   "outputs": [],
   "source": [
    "#Dependent varaible is collisions (y)\n",
    "x_axis=pedesitrian_hood['Median Income']\n",
    "y_axis=pedesitrian_hood['Collisions with Pedestrians']"
   ]
  },
  {
   "cell_type": "code",
   "execution_count": 63,
   "metadata": {},
   "outputs": [
    {
     "name": "stdout",
     "output_type": "stream",
     "text": [
      "The correlation coefficient is: -0.14637\n"
     ]
    },
    {
     "data": {
      "image/png": "[encoded data removed]",
      "text/plain": [
       "<Figure size 432x288 with 1 Axes>"
      ]
     },
     "metadata": {
      "needs_background": "light"
     },
     "output_type": "display_data"
    }
   ],
   "source": [
    "plt.scatter(x_axis,y_axis)\n",
    "plt.title('Fatal Collisions Involving Pedestrians in Toronto Neighbourhoods')\n",
    "plt.xlabel('Median Income')\n",
    "plt.ylabel('Collision Count')\n",
    "plt.xlim(40000,155000)\n",
    "plt.ylim(0,15)\n",
    "\n",
    "(slope, intercept, rvalue, pvalue, stderr) = sts.linregress(x_axis,y_axis)\n",
    "rvalue=round(rvalue,5)\n",
    "regress_values = x_axis * slope + intercept\n",
    "line_eq = \"y = \" + str(round(slope,5)) + \"x + \" + str(round(intercept,2))\n",
    "\n",
    "best_fit = slope * x_axis + intercept\n",
    "plt.plot(x_axis,best_fit,linestyle='--', c='olivedrab', lw=1,alpha=.7)\n",
    "print(f\"The correlation coefficient is: {rvalue}\")\n",
    "\n",
    "plt.annotate(line_eq,(100000,10), fontsize=10,color='olivedrab')\n",
    "plt.annotate(rvalue,(120000,8), fontsize=10,color='olivedrab')\n",
    "\n",
    "plt.savefig('Output/ped_collisions_income.png')"
   ]
  },
  {
   "cell_type": "code",
   "execution_count": 66,
   "metadata": {},
   "outputs": [
    {
     "data": {
      "text/plain": [
       "{'whiskers': [<matplotlib.lines.Line2D at 0x1a25acf0d0>,\n",
       "  <matplotlib.lines.Line2D at 0x1a25acf690>],\n",
       " 'caps': [<matplotlib.lines.Line2D at 0x1a25acfb90>,\n",
       "  <matplotlib.lines.Line2D at 0x1a25a06350>],\n",
       " 'boxes': [<matplotlib.lines.Line2D at 0x1a25a0e490>],\n",
       " 'medians': [<matplotlib.lines.Line2D at 0x1a25ad4610>],\n",
       " 'fliers': [<matplotlib.lines.Line2D at 0x1a25ad4b10>],\n",
       " 'means': []}"
      ]
     },
     "execution_count": 66,
     "metadata": {},
     "output_type": "execute_result"
    },
    {
     "data": {
      "image/png": "[encoded data removed]",
      "text/plain": [
       "<Figure size 432x288 with 1 Axes>"
      ]
     },
     "metadata": {
      "needs_background": "light"
     },
     "output_type": "display_data"
    }
   ],
   "source": [
    "#no correlation, try boxplot to remove outliers\n",
    "plt.boxplot(x_axis)"
   ]
  },
  {
   "cell_type": "code",
   "execution_count": null,
   "metadata": {},
   "outputs": [],
   "source": []
  }
 ],
 "metadata": {
  "kernelspec": {
   "display_name": "Python 3",
   "language": "python",
   "name": "python3"
  },
  "language_info": {
   "codemirror_mode": {
    "name": "ipython",
    "version": 3
   },
   "file_extension": ".py",
   "mimetype": "text/x-python",
   "name": "python",
   "nbconvert_exporter": "python",
   "pygments_lexer": "ipython3",
   "version": "3.7.4"
  }
 },
 "nbformat": 4,
 "nbformat_minor": 2
}
