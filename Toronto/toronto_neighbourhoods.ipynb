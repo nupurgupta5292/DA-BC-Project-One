{
 "cells": [
  {
   "cell_type": "code",
   "execution_count": 1,
   "metadata": {},
   "outputs": [],
   "source": [
    "import pandas as pd\n",
    "import numpy as np\n",
    "import matplotlib.pyplot as plt\n",
    "import scipy.stats as sts\n",
    "import gmaps\n",
    "from api_keys import g_key\n",
    "from ipywidgets.embed import embed_minimal_html"
   ]
  },
  {
   "cell_type": "code",
   "execution_count": 2,
   "metadata": {},
   "outputs": [],
   "source": [
    "#Data sets\n",
    "#toronto police data\n",
    "toronto_collision= pd.read_csv('Resources/Fatal_Collisions_toronto.csv')\n",
    "#Toronto census data\n",
    "toronto_income= pd.read_csv('Resources/income_toronto.csv')"
   ]
  },
  {
   "cell_type": "code",
   "execution_count": 3,
   "metadata": {},
   "outputs": [],
   "source": [
    "# toronto_collision.columns\n",
    "# toronto_income.columns"
   ]
  },
  {
   "cell_type": "code",
   "execution_count": 4,
   "metadata": {},
   "outputs": [],
   "source": [
    "# Clean column layouts\n",
    "toronto_income=toronto_income.rename(columns={'Population, 2016':'Population','Median Household Income Before Taxes':'Median Income'})\n",
    "\n",
    "toronto_collision=toronto_collision[['X', 'Y', 'District','Neighbourhood','FATAL_NO','YEAR', 'VEHTYPE','DATE', 'Hour']]\n",
    "toronto_collision=toronto_collision.rename(columns={'X':'Longitude',\n",
    "                                                    'Y':'Latitude',\n",
    "                                                    'YEAR':'Year',\n",
    "                                                    'FATAL_NO':'Number of Fatalities',\n",
    "                                                    'VEHTYPE':'Vehicle Type',\n",
    "                                                    'DATE':'Date', \n",
    "                                                    })"
   ]
  },
  {
   "cell_type": "code",
   "execution_count": 5,
   "metadata": {},
   "outputs": [],
   "source": [
    "#toronto_collision.head()\n",
    "#toronto_income.head()"
   ]
  },
  {
   "cell_type": "code",
   "execution_count": 6,
   "metadata": {},
   "outputs": [],
   "source": [
    "# toronto_collision.Neighbourhood.nunique()\n",
    "# toronto_income.Neighbourhood.nunique()"
   ]
  },
  {
   "cell_type": "code",
   "execution_count": 7,
   "metadata": {},
   "outputs": [
    {
     "data": {
      "text/html": [
       "<div>\n",
       "<style scoped>\n",
       "    .dataframe tbody tr th:only-of-type {\n",
       "        vertical-align: middle;\n",
       "    }\n",
       "\n",
       "    .dataframe tbody tr th {\n",
       "        vertical-align: top;\n",
       "    }\n",
       "\n",
       "    .dataframe thead th {\n",
       "        text-align: right;\n",
       "    }\n",
       "</style>\n",
       "<table border=\"1\" class=\"dataframe\">\n",
       "  <thead>\n",
       "    <tr style=\"text-align: right;\">\n",
       "      <th></th>\n",
       "      <th>Longitude</th>\n",
       "      <th>Latitude</th>\n",
       "      <th>District</th>\n",
       "      <th>Neighbourhood</th>\n",
       "      <th>Number of Fatalities</th>\n",
       "      <th>Year</th>\n",
       "      <th>Vehicle Type</th>\n",
       "      <th>Date</th>\n",
       "      <th>Hour</th>\n",
       "      <th>Median Income</th>\n",
       "      <th>Population</th>\n",
       "    </tr>\n",
       "  </thead>\n",
       "  <tbody>\n",
       "    <tr>\n",
       "      <td>0</td>\n",
       "      <td>-79.227590</td>\n",
       "      <td>43.816245</td>\n",
       "      <td>Scarborough</td>\n",
       "      <td>Agincourt/Malvern</td>\n",
       "      <td>2.0</td>\n",
       "      <td>2012.0</td>\n",
       "      <td>Other</td>\n",
       "      <td>2012-01-12T05:00:00.000Z</td>\n",
       "      <td>5.0</td>\n",
       "      <td>68108.0</td>\n",
       "      <td>96664.0</td>\n",
       "    </tr>\n",
       "    <tr>\n",
       "      <td>1</td>\n",
       "      <td>-79.263774</td>\n",
       "      <td>43.801421</td>\n",
       "      <td>Scarborough</td>\n",
       "      <td>Agincourt/Malvern</td>\n",
       "      <td>57.0</td>\n",
       "      <td>2015.0</td>\n",
       "      <td></td>\n",
       "      <td>2015-11-24T05:00:00.000Z</td>\n",
       "      <td>6.0</td>\n",
       "      <td>68108.0</td>\n",
       "      <td>96664.0</td>\n",
       "    </tr>\n",
       "    <tr>\n",
       "      <td>2</td>\n",
       "      <td>-79.200870</td>\n",
       "      <td>43.805159</td>\n",
       "      <td>Scarborough</td>\n",
       "      <td>Agincourt/Malvern</td>\n",
       "      <td>49.0</td>\n",
       "      <td>2015.0</td>\n",
       "      <td>Automobile, Station Wagon</td>\n",
       "      <td>2015-10-06T04:00:00.000Z</td>\n",
       "      <td>6.0</td>\n",
       "      <td>68108.0</td>\n",
       "      <td>96664.0</td>\n",
       "    </tr>\n",
       "    <tr>\n",
       "      <td>3</td>\n",
       "      <td>-79.224290</td>\n",
       "      <td>43.816945</td>\n",
       "      <td>Scarborough</td>\n",
       "      <td>Agincourt/Malvern</td>\n",
       "      <td>36.0</td>\n",
       "      <td>2009.0</td>\n",
       "      <td>Other</td>\n",
       "      <td>2009-10-23T04:00:00.000Z</td>\n",
       "      <td>7.0</td>\n",
       "      <td>68108.0</td>\n",
       "      <td>96664.0</td>\n",
       "    </tr>\n",
       "    <tr>\n",
       "      <td>4</td>\n",
       "      <td>-79.289455</td>\n",
       "      <td>43.785750</td>\n",
       "      <td>Scarborough</td>\n",
       "      <td>Agincourt/Malvern</td>\n",
       "      <td>24.0</td>\n",
       "      <td>2014.0</td>\n",
       "      <td></td>\n",
       "      <td>2014-08-16T04:00:00.000Z</td>\n",
       "      <td>5.0</td>\n",
       "      <td>68108.0</td>\n",
       "      <td>96664.0</td>\n",
       "    </tr>\n",
       "  </tbody>\n",
       "</table>\n",
       "</div>"
      ],
      "text/plain": [
       "   Longitude   Latitude     District      Neighbourhood  Number of Fatalities  \\\n",
       "0 -79.227590  43.816245  Scarborough  Agincourt/Malvern                   2.0   \n",
       "1 -79.263774  43.801421  Scarborough  Agincourt/Malvern                  57.0   \n",
       "2 -79.200870  43.805159  Scarborough  Agincourt/Malvern                  49.0   \n",
       "3 -79.224290  43.816945  Scarborough  Agincourt/Malvern                  36.0   \n",
       "4 -79.289455  43.785750  Scarborough  Agincourt/Malvern                  24.0   \n",
       "\n",
       "     Year               Vehicle Type                      Date  Hour  \\\n",
       "0  2012.0                      Other  2012-01-12T05:00:00.000Z   5.0   \n",
       "1  2015.0                             2015-11-24T05:00:00.000Z   6.0   \n",
       "2  2015.0  Automobile, Station Wagon  2015-10-06T04:00:00.000Z   6.0   \n",
       "3  2009.0                      Other  2009-10-23T04:00:00.000Z   7.0   \n",
       "4  2014.0                             2014-08-16T04:00:00.000Z   5.0   \n",
       "\n",
       "   Median Income  Population  \n",
       "0        68108.0     96664.0  \n",
       "1        68108.0     96664.0  \n",
       "2        68108.0     96664.0  \n",
       "3        68108.0     96664.0  \n",
       "4        68108.0     96664.0  "
      ]
     },
     "execution_count": 7,
     "metadata": {},
     "output_type": "execute_result"
    }
   ],
   "source": [
    "toronto_data=pd.merge(toronto_collision,toronto_income, how='outer',on='Neighbourhood')\n",
    "toronto_data=toronto_data.dropna()\n",
    "toronto_data.head()"
   ]
  },
  {
   "cell_type": "code",
   "execution_count": 8,
   "metadata": {},
   "outputs": [],
   "source": [
    "# save Cleaned Data Frame\n",
    "toronto_data.to_csv('Output/toronto_cleaned.csv')"
   ]
  },
  {
   "cell_type": "code",
   "execution_count": 9,
   "metadata": {},
   "outputs": [
    {
     "name": "stdout",
     "output_type": "stream",
     "text": [
      " p-value is 4.136528557707383e-59; Normally distributed\n"
     ]
    },
    {
     "data": {
      "image/png": "[encoded data removed]",
      "text/plain": [
       "<Figure size 432x288 with 1 Axes>"
      ]
     },
     "metadata": {
      "needs_background": "light"
     },
     "output_type": "display_data"
    }
   ],
   "source": [
    "# Histogram for data collected for median income\n",
    "plt.hist(toronto_data['Median Income'])\n",
    "plt.title('Fatal Collision Data')\n",
    "plt.savefig('Output/income_hist.png')\n",
    "# More collisions in midrange income brackets (normally distributed)\n",
    "p_value=sts.normaltest(toronto_data['Median Income']) \n",
    "print(f' p-value is {p_value[1]}; Normally distributed')"
   ]
  },
  {
   "cell_type": "code",
   "execution_count": 10,
   "metadata": {},
   "outputs": [
    {
     "name": "stdout",
     "output_type": "stream",
     "text": [
      "100\n",
      "100\n"
     ]
    }
   ],
   "source": [
    "#place nighbourhood and income data into lists\n",
    "neighbourhoods=list(toronto_data.Neighbourhood.unique())\n",
    "income=list(toronto_data['Median Income'].unique())\n",
    "print(len(income))\n",
    "print(len(neighbourhoods))"
   ]
  },
  {
   "cell_type": "code",
   "execution_count": 11,
   "metadata": {},
   "outputs": [
    {
     "data": {
      "text/html": [
       "<div>\n",
       "<style scoped>\n",
       "    .dataframe tbody tr th:only-of-type {\n",
       "        vertical-align: middle;\n",
       "    }\n",
       "\n",
       "    .dataframe tbody tr th {\n",
       "        vertical-align: top;\n",
       "    }\n",
       "\n",
       "    .dataframe thead th {\n",
       "        text-align: right;\n",
       "    }\n",
       "</style>\n",
       "<table border=\"1\" class=\"dataframe\">\n",
       "  <thead>\n",
       "    <tr style=\"text-align: right;\">\n",
       "      <th></th>\n",
       "      <th>Number of Collisions</th>\n",
       "      <th>Median Income</th>\n",
       "    </tr>\n",
       "    <tr>\n",
       "      <th>Neighbourhood</th>\n",
       "      <th></th>\n",
       "      <th></th>\n",
       "    </tr>\n",
       "  </thead>\n",
       "  <tbody>\n",
       "    <tr>\n",
       "      <td>Lawrence Park South</td>\n",
       "      <td>4</td>\n",
       "      <td>151885.0</td>\n",
       "    </tr>\n",
       "    <tr>\n",
       "      <td>Kingsway South</td>\n",
       "      <td>1</td>\n",
       "      <td>151552.0</td>\n",
       "    </tr>\n",
       "    <tr>\n",
       "      <td>Lawrence Park North</td>\n",
       "      <td>2</td>\n",
       "      <td>144963.0</td>\n",
       "    </tr>\n",
       "    <tr>\n",
       "      <td>Leaside-Bennington</td>\n",
       "      <td>4</td>\n",
       "      <td>126930.0</td>\n",
       "    </tr>\n",
       "    <tr>\n",
       "      <td>Forest Hill South</td>\n",
       "      <td>3</td>\n",
       "      <td>119484.0</td>\n",
       "    </tr>\n",
       "    <tr>\n",
       "      <td>...</td>\n",
       "      <td>...</td>\n",
       "      <td>...</td>\n",
       "    </tr>\n",
       "    <tr>\n",
       "      <td>Flemingdon Park</td>\n",
       "      <td>7</td>\n",
       "      <td>48917.0</td>\n",
       "    </tr>\n",
       "    <tr>\n",
       "      <td>Bay Street Corridor</td>\n",
       "      <td>6</td>\n",
       "      <td>48737.0</td>\n",
       "    </tr>\n",
       "    <tr>\n",
       "      <td>Weston</td>\n",
       "      <td>2</td>\n",
       "      <td>45696.0</td>\n",
       "    </tr>\n",
       "    <tr>\n",
       "      <td>Kensington-Chinatown</td>\n",
       "      <td>10</td>\n",
       "      <td>44216.0</td>\n",
       "    </tr>\n",
       "    <tr>\n",
       "      <td>North St.James Town</td>\n",
       "      <td>2</td>\n",
       "      <td>41016.0</td>\n",
       "    </tr>\n",
       "  </tbody>\n",
       "</table>\n",
       "<p>100 rows × 2 columns</p>\n",
       "</div>"
      ],
      "text/plain": [
       "                      Number of Collisions  Median Income\n",
       "Neighbourhood                                            \n",
       "Lawrence Park South                      4       151885.0\n",
       "Kingsway South                           1       151552.0\n",
       "Lawrence Park North                      2       144963.0\n",
       "Leaside-Bennington                       4       126930.0\n",
       "Forest Hill South                        3       119484.0\n",
       "...                                    ...            ...\n",
       "Flemingdon Park                          7        48917.0\n",
       "Bay Street Corridor                      6        48737.0\n",
       "Weston                                   2        45696.0\n",
       "Kensington-Chinatown                    10        44216.0\n",
       "North St.James Town                      2        41016.0\n",
       "\n",
       "[100 rows x 2 columns]"
      ]
     },
     "execution_count": 11,
     "metadata": {},
     "output_type": "execute_result"
    }
   ],
   "source": [
    "#Create dataframe to hold collisions in each neighbourhood (#Group by neighbourhoods)\n",
    "hood_collisions=pd.DataFrame(toronto_data.groupby('Neighbourhood')['District'].count())\n",
    "hood_collisions=hood_collisions.rename(columns={\n",
    "    'District':'Number of Collisions'})\n",
    "\n",
    "hood_income=pd.DataFrame(toronto_data.groupby('Neighbourhood')['Median Income'].min())\n",
    "\n",
    "hood_data=pd.merge(hood_collisions,hood_income, on='Neighbourhood')\n",
    "hood_data=hood_data.sort_values('Median Income',ascending=False)\n",
    "hood_data"
   ]
  },
  {
   "cell_type": "code",
   "execution_count": 12,
   "metadata": {},
   "outputs": [],
   "source": [
    "location_first=toronto_data.groupby('Neighbourhood').first()\n",
    "location_first=location_first[['Latitude','Longitude','District','Population']]"
   ]
  },
  {
   "cell_type": "code",
   "execution_count": 13,
   "metadata": {},
   "outputs": [
    {
     "data": {
      "text/html": [
       "<div>\n",
       "<style scoped>\n",
       "    .dataframe tbody tr th:only-of-type {\n",
       "        vertical-align: middle;\n",
       "    }\n",
       "\n",
       "    .dataframe tbody tr th {\n",
       "        vertical-align: top;\n",
       "    }\n",
       "\n",
       "    .dataframe thead th {\n",
       "        text-align: right;\n",
       "    }\n",
       "</style>\n",
       "<table border=\"1\" class=\"dataframe\">\n",
       "  <thead>\n",
       "    <tr style=\"text-align: right;\">\n",
       "      <th></th>\n",
       "      <th>Number of Collisions</th>\n",
       "      <th>Median Income</th>\n",
       "      <th>District</th>\n",
       "      <th>Population</th>\n",
       "      <th>City</th>\n",
       "    </tr>\n",
       "    <tr>\n",
       "      <th>Neighbourhood</th>\n",
       "      <th></th>\n",
       "      <th></th>\n",
       "      <th></th>\n",
       "      <th></th>\n",
       "      <th></th>\n",
       "    </tr>\n",
       "  </thead>\n",
       "  <tbody>\n",
       "    <tr>\n",
       "      <td>Lawrence Park South</td>\n",
       "      <td>4</td>\n",
       "      <td>151885.0</td>\n",
       "      <td>North York</td>\n",
       "      <td>16828.0</td>\n",
       "      <td>Toronto</td>\n",
       "    </tr>\n",
       "    <tr>\n",
       "      <td>Kingsway South</td>\n",
       "      <td>1</td>\n",
       "      <td>151552.0</td>\n",
       "      <td>Etobicoke York</td>\n",
       "      <td>9271.0</td>\n",
       "      <td>Toronto</td>\n",
       "    </tr>\n",
       "    <tr>\n",
       "      <td>Lawrence Park North</td>\n",
       "      <td>2</td>\n",
       "      <td>144963.0</td>\n",
       "      <td>North York</td>\n",
       "      <td>15179.0</td>\n",
       "      <td>Toronto</td>\n",
       "    </tr>\n",
       "    <tr>\n",
       "      <td>Leaside-Bennington</td>\n",
       "      <td>4</td>\n",
       "      <td>126930.0</td>\n",
       "      <td>Toronto and East York</td>\n",
       "      <td>10084.0</td>\n",
       "      <td>Toronto</td>\n",
       "    </tr>\n",
       "    <tr>\n",
       "      <td>Forest Hill South</td>\n",
       "      <td>3</td>\n",
       "      <td>119484.0</td>\n",
       "      <td>Toronto and East York</td>\n",
       "      <td>10732.0</td>\n",
       "      <td>Toronto</td>\n",
       "    </tr>\n",
       "    <tr>\n",
       "      <td>...</td>\n",
       "      <td>...</td>\n",
       "      <td>...</td>\n",
       "      <td>...</td>\n",
       "      <td>...</td>\n",
       "      <td>...</td>\n",
       "    </tr>\n",
       "    <tr>\n",
       "      <td>Flemingdon Park</td>\n",
       "      <td>7</td>\n",
       "      <td>48917.0</td>\n",
       "      <td>Scarborough</td>\n",
       "      <td>43041.0</td>\n",
       "      <td>Toronto</td>\n",
       "    </tr>\n",
       "    <tr>\n",
       "      <td>Bay Street Corridor</td>\n",
       "      <td>6</td>\n",
       "      <td>48737.0</td>\n",
       "      <td>Toronto and East York</td>\n",
       "      <td>43466.0</td>\n",
       "      <td>Toronto</td>\n",
       "    </tr>\n",
       "    <tr>\n",
       "      <td>Weston</td>\n",
       "      <td>2</td>\n",
       "      <td>45696.0</td>\n",
       "      <td>Etobicoke York</td>\n",
       "      <td>29090.0</td>\n",
       "      <td>Toronto</td>\n",
       "    </tr>\n",
       "    <tr>\n",
       "      <td>Kensington-Chinatown</td>\n",
       "      <td>10</td>\n",
       "      <td>44216.0</td>\n",
       "      <td>Toronto and East York</td>\n",
       "      <td>17945.0</td>\n",
       "      <td>Toronto</td>\n",
       "    </tr>\n",
       "    <tr>\n",
       "      <td>North St.James Town</td>\n",
       "      <td>2</td>\n",
       "      <td>41016.0</td>\n",
       "      <td>Toronto and East York</td>\n",
       "      <td>18675.0</td>\n",
       "      <td>Toronto</td>\n",
       "    </tr>\n",
       "  </tbody>\n",
       "</table>\n",
       "<p>100 rows × 5 columns</p>\n",
       "</div>"
      ],
      "text/plain": [
       "                      Number of Collisions  Median Income  \\\n",
       "Neighbourhood                                               \n",
       "Lawrence Park South                      4       151885.0   \n",
       "Kingsway South                           1       151552.0   \n",
       "Lawrence Park North                      2       144963.0   \n",
       "Leaside-Bennington                       4       126930.0   \n",
       "Forest Hill South                        3       119484.0   \n",
       "...                                    ...            ...   \n",
       "Flemingdon Park                          7        48917.0   \n",
       "Bay Street Corridor                      6        48737.0   \n",
       "Weston                                   2        45696.0   \n",
       "Kensington-Chinatown                    10        44216.0   \n",
       "North St.James Town                      2        41016.0   \n",
       "\n",
       "                                   District  Population     City  \n",
       "Neighbourhood                                                     \n",
       "Lawrence Park South              North York     16828.0  Toronto  \n",
       "Kingsway South               Etobicoke York      9271.0  Toronto  \n",
       "Lawrence Park North              North York     15179.0  Toronto  \n",
       "Leaside-Bennington    Toronto and East York     10084.0  Toronto  \n",
       "Forest Hill South     Toronto and East York     10732.0  Toronto  \n",
       "...                                     ...         ...      ...  \n",
       "Flemingdon Park                 Scarborough     43041.0  Toronto  \n",
       "Bay Street Corridor   Toronto and East York     43466.0  Toronto  \n",
       "Weston                       Etobicoke York     29090.0  Toronto  \n",
       "Kensington-Chinatown  Toronto and East York     17945.0  Toronto  \n",
       "North St.James Town   Toronto and East York     18675.0  Toronto  \n",
       "\n",
       "[100 rows x 5 columns]"
      ]
     },
     "execution_count": 13,
     "metadata": {},
     "output_type": "execute_result"
    }
   ],
   "source": [
    "#merge to final table\n",
    "toronto_hood_data=pd.merge(hood_data,location_first,left_index=True, right_index=True )\n",
    "# toronto_hood_data=pd.merge(toronto_hood_data, toronto_population, on=index)\n",
    "toronto_hood_data['City']='Toronto'\n",
    "toronto_hood_data=toronto_hood_data[['Number of Collisions','Median Income','District','Population','City']]\n",
    "toronto_hood_data"
   ]
  },
  {
   "cell_type": "code",
   "execution_count": 14,
   "metadata": {},
   "outputs": [],
   "source": [
    "# Save Final table\n",
    "toronto_hood_data.to_csv('Output/toronto_table.csv')"
   ]
  },
  {
   "cell_type": "code",
   "execution_count": 15,
   "metadata": {},
   "outputs": [],
   "source": [
    "#Dependent varaible is collisions (y)\n",
    "x_axis=toronto_hood_data['Median Income']\n",
    "y_axis=toronto_hood_data['Number of Collisions']\n",
    "population_size=toronto_hood_data['Population']"
   ]
  },
  {
   "cell_type": "code",
   "execution_count": 16,
   "metadata": {},
   "outputs": [
    {
     "name": "stdout",
     "output_type": "stream",
     "text": [
      "The correlation coefficient is: -0.165\n"
     ]
    },
    {
     "data": {
      "image/png": "[encoded data removed]",
      "text/plain": [
       "<Figure size 432x288 with 1 Axes>"
      ]
     },
     "metadata": {
      "needs_background": "light"
     },
     "output_type": "display_data"
    }
   ],
   "source": [
    "plt.scatter(x_axis,y_axis)\n",
    "plt.title('Collision Fatalities related to Neighbourhood income (Toronto)')\n",
    "plt.xlabel('Median Income')\n",
    "plt.ylabel('Fatal Collisions')\n",
    "plt.xlim(40000,155000)\n",
    "plt.ylim(0,30)\n",
    "\n",
    "(slope, intercept, rvalue, pvalue, stderr) = sts.linregress(x_axis,y_axis)\n",
    "rvalue=round(rvalue,5)\n",
    "regress_values = x_axis * slope + intercept\n",
    "line_eq = \"y = \" + str(round(slope,5)) + \"x + \" + str(round(intercept,2))\n",
    "\n",
    "best_fit = slope * x_axis + intercept\n",
    "plt.plot(x_axis,best_fit,linestyle='--', c='olivedrab', lw=2,alpha=.7)\n",
    "print(f\"The correlation coefficient is: {rvalue}\")\n",
    "\n",
    "plt.annotate(line_eq,(100000,10), fontsize=10,color='olivedrab')\n",
    "plt.annotate(rvalue,(120000,8), fontsize=10,color='olivedrab')\n",
    "\n",
    "plt.savefig('Output/collisions_v_income.png')"
   ]
  },
  {
   "cell_type": "code",
   "execution_count": 17,
   "metadata": {},
   "outputs": [],
   "source": [
    "# use google maps to create heat map\n",
    "gmaps.configure(api_key=g_key)"
   ]
  },
  {
   "cell_type": "code",
   "execution_count": 18,
   "metadata": {},
   "outputs": [],
   "source": [
    "locations = toronto_data[[\"Latitude\", \"Longitude\"]].astype(float)\n",
    "\n",
    "collision_map = gmaps.figure(center=(43.72,-79.3), zoom_level=10.5)\n",
    "heatmap_layer = gmaps.heatmap_layer(locations)\n",
    "collision_map.add_layer(heatmap_layer)\n",
    "\n",
    "\n",
    "collision_map\n",
    "embed_minimal_html('Output/collision_heatmap.html', views=[collision_map])"
   ]
  },
  {
   "cell_type": "code",
   "execution_count": 19,
   "metadata": {},
   "outputs": [
    {
     "data": {
      "application/vnd.jupyter.widget-view+json": {
       "model_id": "21b4e0bd9add4ba19e9b9c58504bf33d",
       "version_major": 2,
       "version_minor": 0
      },
      "text/plain": [
       "Figure(layout=FigureLayout(height='420px'))"
      ]
     },
     "metadata": {},
     "output_type": "display_data"
    }
   ],
   "source": [
    "collision_map"
   ]
  },
  {
   "cell_type": "code",
   "execution_count": null,
   "metadata": {},
   "outputs": [],
   "source": []
  },
  {
   "cell_type": "code",
   "execution_count": null,
   "metadata": {},
   "outputs": [],
   "source": []
  },
  {
   "cell_type": "code",
   "execution_count": null,
   "metadata": {},
   "outputs": [],
   "source": []
  }
 ],
 "metadata": {
  "kernelspec": {
   "display_name": "Python 3",
   "language": "python",
   "name": "python3"
  },
  "language_info": {
   "codemirror_mode": {
    "name": "ipython",
    "version": 3
   },
   "file_extension": ".py",
   "mimetype": "text/x-python",
   "name": "python",
   "nbconvert_exporter": "python",
   "pygments_lexer": "ipython3",
   "version": "3.7.4"
  }
 },
 "nbformat": 4,
 "nbformat_minor": 2
}
